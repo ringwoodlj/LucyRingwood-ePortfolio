{
 "cells": [
  {
   "cell_type": "code",
   "execution_count": 2,
   "id": "f7bb66fd",
   "metadata": {},
   "outputs": [],
   "source": [
    "import requests\n",
    "\n",
    "API_URL = \"https://api.nasa.gov/insight_weather/?api_key=DEMO_KEY&feedtype=json&ver=1.0\"\n",
    "API_KEY = \"kJTGfWMVbTOnAxJTTWMFVtPSDQozFeZzeUMzyZbd\" \n",
    "\n",
    "headers = {\n",
    "    'Authorization': f\"Bearer {API_KEY}\",\n",
    "    'Content-Type': 'application/json'\n",
    "}\n",
    "\n",
    "if not API_URL.startswith(\"https://\"):\n",
    "    raise ValueError(\"API URL must be HTTPS for secure communication.\")\n",
    "\n",
    "response = requests.get(API_URL, headers=headers, timeout=10)\n",
    "\n",
    "try:\n",
    "    data = response.json()\n",
    "except ValueError:\n",
    "    print(\"Invalid data received.\")\n",
    "    data = {}\n",
    "\n",
    "\n",
    "if 'X-RateLimit-Remaining' in response.headers:\n",
    "    remaining = int(response.headers['X-RateLimit-Remaining'])\n",
    "    if remaining == 0:\n",
    "        print(\"API rate limit reached!\")\n"
   ]
  },
  {
   "cell_type": "code",
   "execution_count": 3,
   "id": "d266cedc",
   "metadata": {},
   "outputs": [
    {
     "name": "stdout",
     "output_type": "stream",
     "text": [
      "{'sol_keys': [], 'validity_checks': {'1219': {'AT': {'sol_hours_with_data': [6, 7, 8, 9, 10, 11, 12], 'valid': False}, 'HWS': {'sol_hours_with_data': [6, 7, 8, 9, 10, 11, 12], 'valid': False}, 'PRE': {'sol_hours_with_data': [6, 7, 8, 9, 10, 11, 12], 'valid': False}, 'WD': {'sol_hours_with_data': [6, 7, 8, 9, 10, 11, 12], 'valid': False}}, 'sol_hours_required': 18, 'sols_checked': ['1219']}}\n"
     ]
    }
   ],
   "source": [
    "print(data)"
   ]
  },
  {
   "cell_type": "code",
   "execution_count": null,
   "id": "ce8ee8a9",
   "metadata": {},
   "outputs": [],
   "source": []
  }
 ],
 "metadata": {
  "kernelspec": {
   "display_name": "Python 3 (ipykernel)",
   "language": "python",
   "name": "python3"
  },
  "language_info": {
   "codemirror_mode": {
    "name": "ipython",
    "version": 3
   },
   "file_extension": ".py",
   "mimetype": "text/x-python",
   "name": "python",
   "nbconvert_exporter": "python",
   "pygments_lexer": "ipython3",
   "version": "3.11.3"
  }
 },
 "nbformat": 4,
 "nbformat_minor": 5
}
