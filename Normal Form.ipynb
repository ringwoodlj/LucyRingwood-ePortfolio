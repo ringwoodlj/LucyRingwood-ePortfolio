{
 "cells": [
  {
   "cell_type": "code",
   "execution_count": 3,
   "id": "b8ca7f72",
   "metadata": {},
   "outputs": [],
   "source": [
    "import pandas as pd\n",
    "df=pd.read_excel(\"normal_form.xlsx\")"
   ]
  },
  {
   "cell_type": "code",
   "execution_count": 4,
   "id": "f011a4e4",
   "metadata": {},
   "outputs": [
    {
     "name": "stdout",
     "output_type": "stream",
     "text": [
      "    Student Number   Student Name    Exam Score   Support   Date of Birth    \\\n",
      "0             1001.0      Bob Baker          78.0        No      2001-08-25   \n",
      "1                NaN            NaN           NaN       NaN             NaT   \n",
      "2                NaN            NaN           NaN       NaN             NaT   \n",
      "3             1002.0   Sally Davies          55.0       Yes      1999-10-02   \n",
      "4                NaN            NaN           NaN       NaN             NaT   \n",
      "5                NaN            NaN           NaN       NaN             NaT   \n",
      "6             1003.0   Mark Hanmill          90.0        No      1995-06-05   \n",
      "7                NaN            NaN           NaN       NaN             NaT   \n",
      "8                NaN            NaN           NaN       NaN             NaT   \n",
      "9             1004.0       Anas Ali          70.0        No      1980-08-03   \n",
      "10               NaN            NaN           NaN       NaN             NaT   \n",
      "11               NaN            NaN           NaN       NaN             NaT   \n",
      "12            1005.0      Cheuk Yin          45.0       Yes      2002-05-01   \n",
      "13               NaN            NaN           NaN       NaN             NaT   \n",
      "14               NaN            NaN           NaN       NaN             NaT   \n",
      "\n",
      "       Course Name   Exam Boards   Teacher Name    \n",
      "0   Computer Science           BCS       Mr Jones  \n",
      "1              Maths       EdExcel      Ms Parker  \n",
      "2            Physics           OCR      Mr Peters  \n",
      "3              Maths           AQA      Ms Parker  \n",
      "4            Biology          WJEC      Mrs Patel  \n",
      "5              Music           AQA     Ms Daniels  \n",
      "6   Computer Science           BCS       Mr Jones  \n",
      "7              Maths       EdExcel      Ms Parker  \n",
      "8            Physics           OCR      Mr Peters  \n",
      "9              Maths           AQA      Ms Parker  \n",
      "10           Physics           OCR      Mr Peters  \n",
      "11           Biology          WJEC      Mrs Patel  \n",
      "12  Computer Science           BCS       Mr Jones  \n",
      "13             Maths       EdExcel      Ms Parker  \n",
      "14             Music           AQA     Ms Daniels  \n"
     ]
    }
   ],
   "source": [
    "print(df)"
   ]
  },
  {
   "cell_type": "code",
   "execution_count": 11,
   "id": "6b7924a6",
   "metadata": {},
   "outputs": [
    {
     "name": "stdout",
     "output_type": "stream",
     "text": [
      "    Student Number   Student Name    Exam Score   Support   Date of Birth    \\\n",
      "0             1001.0      Bob Baker          78.0        No      2001-08-25   \n",
      "1             1001.0      Bob Baker          78.0        No      2001-08-25   \n",
      "2             1001.0      Bob Baker          78.0        No      2001-08-25   \n",
      "3             1002.0   Sally Davies          55.0       Yes      1999-10-02   \n",
      "4             1002.0   Sally Davies          55.0       Yes      1999-10-02   \n",
      "5             1002.0   Sally Davies          55.0       Yes      1999-10-02   \n",
      "6             1003.0   Mark Hanmill          90.0        No      1995-06-05   \n",
      "7             1003.0   Mark Hanmill          90.0        No      1995-06-05   \n",
      "8             1003.0   Mark Hanmill          90.0        No      1995-06-05   \n",
      "9             1004.0       Anas Ali          70.0        No      1980-08-03   \n",
      "10            1004.0       Anas Ali          70.0        No      1980-08-03   \n",
      "11            1004.0       Anas Ali          70.0        No      1980-08-03   \n",
      "12            1005.0      Cheuk Yin          45.0       Yes      2002-05-01   \n",
      "13            1005.0      Cheuk Yin          45.0       Yes      2002-05-01   \n",
      "14            1005.0      Cheuk Yin          45.0       Yes      2002-05-01   \n",
      "\n",
      "       Course Name   Exam Boards   Teacher Name    \n",
      "0   Computer Science           BCS       Mr Jones  \n",
      "1              Maths       EdExcel      Ms Parker  \n",
      "2            Physics           OCR      Mr Peters  \n",
      "3              Maths           AQA      Ms Parker  \n",
      "4            Biology          WJEC      Mrs Patel  \n",
      "5              Music           AQA     Ms Daniels  \n",
      "6   Computer Science           BCS       Mr Jones  \n",
      "7              Maths       EdExcel      Ms Parker  \n",
      "8            Physics           OCR      Mr Peters  \n",
      "9              Maths           AQA      Ms Parker  \n",
      "10           Physics           OCR      Mr Peters  \n",
      "11           Biology          WJEC      Mrs Patel  \n",
      "12  Computer Science           BCS       Mr Jones  \n",
      "13             Maths       EdExcel      Ms Parker  \n",
      "14             Music           AQA     Ms Daniels  \n"
     ]
    }
   ],
   "source": [
    "df_filled = df.fillna(method='ffill')\n",
    "\n",
    "\n",
    "print(df_filled)\n"
   ]
  },
  {
   "cell_type": "code",
   "execution_count": 14,
   "id": "e5e14a73",
   "metadata": {},
   "outputs": [
    {
     "data": {
      "text/plain": [
       "Index(['Student Number', 'Student Name', 'Exam Score', 'Support',\n",
       "       'Date of Birth', 'Course Name', 'Exam Boards', 'Teacher Name'],\n",
       "      dtype='object')"
      ]
     },
     "execution_count": 14,
     "metadata": {},
     "output_type": "execute_result"
    }
   ],
   "source": [
    "column_names = df_filled.columns\n",
    "column_names\n",
    "\n",
    "df_filled.columns = df_filled.columns.str.strip()\n",
    "\n",
    "\n",
    "cleaned_column_names = df_filled.columns\n",
    "cleaned_column_names\n"
   ]
  },
  {
   "cell_type": "code",
   "execution_count": 15,
   "id": "b66b84cb",
   "metadata": {},
   "outputs": [
    {
     "data": {
      "text/plain": [
       "(    Student Number  Student Name Support Date of Birth\n",
       " 0           1001.0     Bob Baker      No    2001-08-25\n",
       " 3           1002.0  Sally Davies     Yes    1999-10-02\n",
       " 6           1003.0  Mark Hanmill      No    1995-06-05\n",
       " 9           1004.0      Anas Ali      No    1980-08-03\n",
       " 12          1005.0     Cheuk Yin     Yes    2002-05-01,\n",
       "         Course Name Exam Boards Teacher Name\n",
       " 0  Computer Science         BCS     Mr Jones\n",
       " 1             Maths     EdExcel    Ms Parker\n",
       " 2           Physics         OCR    Mr Peters\n",
       " 3             Maths         AQA    Ms Parker\n",
       " 4           Biology        WJEC    Mrs Patel,\n",
       "    Student Number       Course Name  Exam Score\n",
       " 0          1001.0  Computer Science        78.0\n",
       " 1          1001.0             Maths        78.0\n",
       " 2          1001.0           Physics        78.0\n",
       " 3          1002.0             Maths        55.0\n",
       " 4          1002.0           Biology        55.0)"
      ]
     },
     "execution_count": 15,
     "metadata": {},
     "output_type": "execute_result"
    }
   ],
   "source": [
    "\n",
    "students = df_filled[['Student Number', 'Student Name', 'Support', 'Date of Birth']].drop_duplicates()\n",
    "\n",
    "\n",
    "courses = df_filled[['Course Name', 'Exam Boards', 'Teacher Name']].drop_duplicates()\n",
    "\n",
    "\n",
    "scores = df_filled[['Student Number', 'Course Name', 'Exam Score']]\n",
    "\n",
    "students.head(), courses.head(), scores.head()\n"
   ]
  },
  {
   "cell_type": "code",
   "execution_count": 16,
   "id": "e783b6c6",
   "metadata": {},
   "outputs": [
    {
     "data": {
      "text/plain": [
       "(        Course Name Teacher Name\n",
       " 0  Computer Science     Mr Jones\n",
       " 1             Maths    Ms Parker\n",
       " 2           Physics    Mr Peters\n",
       " 4           Biology    Mrs Patel\n",
       " 5             Music   Ms Daniels,\n",
       "         Course Name Exam Boards\n",
       " 0  Computer Science         BCS\n",
       " 1             Maths     EdExcel\n",
       " 2           Physics         OCR\n",
       " 3             Maths         AQA\n",
       " 4           Biology        WJEC)"
      ]
     },
     "execution_count": 16,
     "metadata": {},
     "output_type": "execute_result"
    }
   ],
   "source": [
    "teacher_course = courses[['Course Name', 'Teacher Name']].drop_duplicates()\n",
    "\n",
    "\n",
    "courses = courses[['Course Name', 'Exam Boards']]\n",
    "\n",
    "teacher_course.head(), courses.head()\n"
   ]
  },
  {
   "cell_type": "code",
   "execution_count": 25,
   "id": "9afacfb5",
   "metadata": {},
   "outputs": [],
   "source": [
    "df_filled = df_filled.rename(columns={\n",
    "    'Student Number': 'StudentNumber',\n",
    "    'Student Name': 'StudentName',\n",
    "    'Course Name': 'CourseName',\n",
    "    'Exam Score': 'ExamScore',\n",
    "    'Date of Birth': 'DateOfBirth',\n",
    "    'Exam Boards': 'ExamBoards',\n",
    "    'Teacher Name': 'TeacherName'\n",
    "})\n",
    "\n",
    "students = df_filled[['StudentNumber', 'StudentName', 'Support', 'DateOfBirth']].drop_duplicates()\n",
    "courses = df_filled[['CourseName', 'ExamBoards']].drop_duplicates()\n",
    "scores = df_filled[['StudentNumber', 'CourseName', 'ExamScore']]\n",
    "teacher_course = df_filled[['CourseName', 'TeacherName']].drop_duplicates()\n"
   ]
  },
