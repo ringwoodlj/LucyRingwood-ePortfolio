{
 "cells": [
  {
   "cell_type": "code",
   "execution_count": 3,
   "id": "b8ca7f72",
   "metadata": {},
   "outputs": [],
   "source": [
    "import pandas as pd\n",
    "df=pd.read_excel(\"normal_form.xlsx\")"
   ]
  },
  {
   "cell_type": "code",
   "execution_count": 4,
   "id": "f011a4e4",
   "metadata": {},
   "outputs": [
    {
     "name": "stdout",
     "output_type": "stream",
     "text": [
      "    Student Number   Student Name    Exam Score   Support   Date of Birth    \\\n",
      "0             1001.0      Bob Baker          78.0        No      2001-08-25   \n",
      "1                NaN            NaN           NaN       NaN             NaT   \n",
      "2                NaN            NaN           NaN       NaN             NaT   \n",
      "3             1002.0   Sally Davies          55.0       Yes      1999-10-02   \n",
      "4                NaN            NaN           NaN       NaN             NaT   \n",
      "5                NaN            NaN           NaN       NaN             NaT   \n",
      "6             1003.0   Mark Hanmill          90.0        No      1995-06-05   \n",
      "7                NaN            NaN           NaN       NaN             NaT   \n",
      "8                NaN            NaN           NaN       NaN             NaT   \n",
      "9             1004.0       Anas Ali          70.0        No      1980-08-03   \n",
      "10               NaN            NaN           NaN       NaN             NaT   \n",
      "11               NaN            NaN           NaN       NaN             NaT   \n",
      "12            1005.0      Cheuk Yin          45.0       Yes      2002-05-01   \n",
      "13               NaN            NaN           NaN       NaN             NaT   \n",
      "14               NaN            NaN           NaN       NaN             NaT   \n",
      "\n",
      "       Course Name   Exam Boards   Teacher Name    \n",
      "0   Computer Science           BCS       Mr Jones  \n",
      "1              Maths       EdExcel      Ms Parker  \n",
      "2            Physics           OCR      Mr Peters  \n",
      "3              Maths           AQA      Ms Parker  \n",
      "4            Biology          WJEC      Mrs Patel  \n",
      "5              Music           AQA     Ms Daniels  \n",
      "6   Computer Science           BCS       Mr Jones  \n",
      "7              Maths       EdExcel      Ms Parker  \n",
      "8            Physics           OCR      Mr Peters  \n",
      "9              Maths           AQA      Ms Parker  \n",
      "10           Physics           OCR      Mr Peters  \n",
      "11           Biology          WJEC      Mrs Patel  \n",
      "12  Computer Science           BCS       Mr Jones  \n",
      "13             Maths       EdExcel      Ms Parker  \n",
      "14             Music           AQA     Ms Daniels  \n"
     ]
    }
   ],
   "source": [
    "print(df)"
   ]
  },
  {
   "cell_type": "code",
   "execution_count": 11,
   "id": "6b7924a6",
   "metadata": {},
   "outputs": [
    {
     "name": "stdout",
     "output_type": "stream",
     "text": [
      "    Student Number   Student Name    Exam Score   Support   Date of Birth    \\\n",
      "0             1001.0      Bob Baker          78.0        No      2001-08-25   \n",
      "1             1001.0      Bob Baker          78.0        No      2001-08-25   \n",
      "2             1001.0      Bob Baker          78.0        No      2001-08-25   \n",
      "3             1002.0   Sally Davies          55.0       Yes      1999-10-02   \n",
      "4             1002.0   Sally Davies          55.0       Yes      1999-10-02   \n",
      "5             1002.0   Sally Davies          55.0       Yes      1999-10-02   \n",
      "6             1003.0   Mark Hanmill          90.0        No      1995-06-05   \n",
      "7             1003.0   Mark Hanmill          90.0        No      1995-06-05   \n",
      "8             1003.0   Mark Hanmill          90.0        No      1995-06-05   \n",
      "9             1004.0       Anas Ali          70.0        No      1980-08-03   \n",
      "10            1004.0       Anas Ali          70.0        No      1980-08-03   \n",
      "11            1004.0       Anas Ali          70.0        No      1980-08-03   \n",
      "12            1005.0      Cheuk Yin          45.0       Yes      2002-05-01   \n",
      "13            1005.0      Cheuk Yin          45.0       Yes      2002-05-01   \n",
      "14            1005.0      Cheuk Yin          45.0       Yes      2002-05-01   \n",
      "\n",
      "       Course Name   Exam Boards   Teacher Name    \n",
      "0   Computer Science           BCS       Mr Jones  \n",
      "1              Maths       EdExcel      Ms Parker  \n",
      "2            Physics           OCR      Mr Peters  \n",
      "3              Maths           AQA      Ms Parker  \n",
      "4            Biology          WJEC      Mrs Patel  \n",
      "5              Music           AQA     Ms Daniels  \n",
      "6   Computer Science           BCS       Mr Jones  \n",
      "7              Maths       EdExcel      Ms Parker  \n",
      "8            Physics           OCR      Mr Peters  \n",
      "9              Maths           AQA      Ms Parker  \n",
      "10           Physics           OCR      Mr Peters  \n",
      "11           Biology          WJEC      Mrs Patel  \n",
      "12  Computer Science           BCS       Mr Jones  \n",
      "13             Maths       EdExcel      Ms Parker  \n",
      "14             Music           AQA     Ms Daniels  \n"
     ]
    }
   ],
   "source": [
    "df_filled = df.fillna(method='ffill')\n",
    "\n",
    "\n",
    "print(df_filled)\n"
   ]
  },
  {
   "cell_type": "code",
   "execution_count": 14,
   "id": "e5e14a73",
   "metadata": {},
   "outputs": [
    {
     "data": {
      "text/plain": [
       "Index(['Student Number', 'Student Name', 'Exam Score', 'Support',\n",
       "       'Date of Birth', 'Course Name', 'Exam Boards', 'Teacher Name'],\n",
       "      dtype='object')"
      ]
     },
     "execution_count": 14,
     "metadata": {},
     "output_type": "execute_result"
    }
   ],
   "source": [
    "column_names = df_filled.columns\n",
    "column_names\n",
    "\n",
    "df_filled.columns = df_filled.columns.str.strip()\n",
    "\n",
    "\n",
    "cleaned_column_names = df_filled.columns\n",
    "cleaned_column_names\n"
   ]
  },
  {
   "cell_type": "code",
   "execution_count": 15,
   "id": "b66b84cb",
   "metadata": {},
   "outputs": [
    {
     "data": {
      "text/plain": [
       "(    Student Number  Student Name Support Date of Birth\n",
       " 0           1001.0     Bob Baker      No    2001-08-25\n",
       " 3           1002.0  Sally Davies     Yes    1999-10-02\n",
       " 6           1003.0  Mark Hanmill      No    1995-06-05\n",
       " 9           1004.0      Anas Ali      No    1980-08-03\n",
       " 12          1005.0     Cheuk Yin     Yes    2002-05-01,\n",
       "         Course Name Exam Boards Teacher Name\n",
       " 0  Computer Science         BCS     Mr Jones\n",
       " 1             Maths     EdExcel    Ms Parker\n",
       " 2           Physics         OCR    Mr Peters\n",
       " 3             Maths         AQA    Ms Parker\n",
       " 4           Biology        WJEC    Mrs Patel,\n",
       "    Student Number       Course Name  Exam Score\n",
       " 0          1001.0  Computer Science        78.0\n",
       " 1          1001.0             Maths        78.0\n",
       " 2          1001.0           Physics        78.0\n",
       " 3          1002.0             Maths        55.0\n",
       " 4          1002.0           Biology        55.0)"
      ]
     },
     "execution_count": 15,
     "metadata": {},
     "output_type": "execute_result"
    }
   ],
   "source": [
    "\n",
    "students = df_filled[['Student Number', 'Student Name', 'Support', 'Date of Birth']].drop_duplicates()\n",
    "\n",
    "\n",
    "courses = df_filled[['Course Name', 'Exam Boards', 'Teacher Name']].drop_duplicates()\n",
    "\n",
    "\n",
    "scores = df_filled[['Student Number', 'Course Name', 'Exam Score']]\n",
    "\n",
    "students.head(), courses.head(), scores.head()\n"
   ]
  },
  {
   "cell_type": "code",
   "execution_count": 16,
   "id": "e783b6c6",
   "metadata": {},
   "outputs": [
    {
     "data": {
      "text/plain": [
       "(        Course Name Teacher Name\n",
       " 0  Computer Science     Mr Jones\n",
       " 1             Maths    Ms Parker\n",
       " 2           Physics    Mr Peters\n",
       " 4           Biology    Mrs Patel\n",
       " 5             Music   Ms Daniels,\n",
       "         Course Name Exam Boards\n",
       " 0  Computer Science         BCS\n",
       " 1             Maths     EdExcel\n",
       " 2           Physics         OCR\n",
       " 3             Maths         AQA\n",
       " 4           Biology        WJEC)"
      ]
     },
     "execution_count": 16,
     "metadata": {},
     "output_type": "execute_result"
    }
   ],
   "source": [
    "teacher_course = courses[['Course Name', 'Teacher Name']].drop_duplicates()\n",
    "\n",
    "\n",
    "courses = courses[['Course Name', 'Exam Boards']]\n",
    "\n",
    "teacher_course.head(), courses.head()\n"
   ]
  },
  {
   "cell_type": "code",
   "execution_count": 25,
   "id": "9afacfb5",
   "metadata": {},
   "outputs": [],
   "source": [
    "df_filled = df_filled.rename(columns={\n",
    "    'Student Number': 'StudentNumber',\n",
    "    'Student Name': 'StudentName',\n",
    "    'Course Name': 'CourseName',\n",
    "    'Exam Score': 'ExamScore',\n",
    "    'Date of Birth': 'DateOfBirth',\n",
    "    'Exam Boards': 'ExamBoards',\n",
    "    'Teacher Name': 'TeacherName'\n",
    "})\n",
    "\n",
    "students = df_filled[['StudentNumber', 'StudentName', 'Support', 'DateOfBirth']].drop_duplicates()\n",
    "courses = df_filled[['CourseName', 'ExamBoards']].drop_duplicates()\n",
    "scores = df_filled[['StudentNumber', 'CourseName', 'ExamScore']]\n",
    "teacher_course = df_filled[['CourseName', 'TeacherName']].drop_duplicates()\n"
   ]
  },
  {
   "cell_type": "code",
   "execution_count": 26,
   "id": "ac1b8027",
   "metadata": {},
   "outputs": [
    {
     "ename": "IntegrityError",
     "evalue": "UNIQUE constraint failed: Courses.CourseName",
     "output_type": "error",
     "traceback": [
      "\u001b[1;31m---------------------------------------------------------------------------\u001b[0m",
      "\u001b[1;31mIntegrityError\u001b[0m                            Traceback (most recent call last)",
      "Cell \u001b[1;32mIn[26], line 50\u001b[0m\n\u001b[0;32m     48\u001b[0m \u001b[38;5;66;03m# Insert data into tables\u001b[39;00m\n\u001b[0;32m     49\u001b[0m students\u001b[38;5;241m.\u001b[39mto_sql(\u001b[38;5;124m'\u001b[39m\u001b[38;5;124mStudents\u001b[39m\u001b[38;5;124m'\u001b[39m, conn, if_exists\u001b[38;5;241m=\u001b[39m\u001b[38;5;124m'\u001b[39m\u001b[38;5;124mappend\u001b[39m\u001b[38;5;124m'\u001b[39m, index\u001b[38;5;241m=\u001b[39m\u001b[38;5;28;01mFalse\u001b[39;00m)\n\u001b[1;32m---> 50\u001b[0m \u001b[43mcourses\u001b[49m\u001b[38;5;241;43m.\u001b[39;49m\u001b[43mto_sql\u001b[49m\u001b[43m(\u001b[49m\u001b[38;5;124;43m'\u001b[39;49m\u001b[38;5;124;43mCourses\u001b[39;49m\u001b[38;5;124;43m'\u001b[39;49m\u001b[43m,\u001b[49m\u001b[43m \u001b[49m\u001b[43mconn\u001b[49m\u001b[43m,\u001b[49m\u001b[43m \u001b[49m\u001b[43mif_exists\u001b[49m\u001b[38;5;241;43m=\u001b[39;49m\u001b[38;5;124;43m'\u001b[39;49m\u001b[38;5;124;43mappend\u001b[39;49m\u001b[38;5;124;43m'\u001b[39;49m\u001b[43m,\u001b[49m\u001b[43m \u001b[49m\u001b[43mindex\u001b[49m\u001b[38;5;241;43m=\u001b[39;49m\u001b[38;5;28;43;01mFalse\u001b[39;49;00m\u001b[43m)\u001b[49m\n\u001b[0;32m     51\u001b[0m scores\u001b[38;5;241m.\u001b[39mto_sql(\u001b[38;5;124m'\u001b[39m\u001b[38;5;124mScores\u001b[39m\u001b[38;5;124m'\u001b[39m, conn, if_exists\u001b[38;5;241m=\u001b[39m\u001b[38;5;124m'\u001b[39m\u001b[38;5;124mappend\u001b[39m\u001b[38;5;124m'\u001b[39m, index\u001b[38;5;241m=\u001b[39m\u001b[38;5;28;01mFalse\u001b[39;00m)\n\u001b[0;32m     52\u001b[0m teacher_course\u001b[38;5;241m.\u001b[39mto_sql(\u001b[38;5;124m'\u001b[39m\u001b[38;5;124mTeacherCourse\u001b[39m\u001b[38;5;124m'\u001b[39m, conn, if_exists\u001b[38;5;241m=\u001b[39m\u001b[38;5;124m'\u001b[39m\u001b[38;5;124mappend\u001b[39m\u001b[38;5;124m'\u001b[39m, index\u001b[38;5;241m=\u001b[39m\u001b[38;5;28;01mFalse\u001b[39;00m)\n",
      "File \u001b[1;32m~\\anaconda3\\lib\\site-packages\\pandas\\core\\generic.py:2987\u001b[0m, in \u001b[0;36mNDFrame.to_sql\u001b[1;34m(self, name, con, schema, if_exists, index, index_label, chunksize, dtype, method)\u001b[0m\n\u001b[0;32m   2830\u001b[0m \u001b[38;5;124;03m\"\"\"\u001b[39;00m\n\u001b[0;32m   2831\u001b[0m \u001b[38;5;124;03mWrite records stored in a DataFrame to a SQL database.\u001b[39;00m\n\u001b[0;32m   2832\u001b[0m \n\u001b[1;32m   (...)\u001b[0m\n\u001b[0;32m   2983\u001b[0m \u001b[38;5;124;03m[(1,), (None,), (2,)]\u001b[39;00m\n\u001b[0;32m   2984\u001b[0m \u001b[38;5;124;03m\"\"\"\u001b[39;00m  \u001b[38;5;66;03m# noqa:E501\u001b[39;00m\n\u001b[0;32m   2985\u001b[0m \u001b[38;5;28;01mfrom\u001b[39;00m \u001b[38;5;21;01mpandas\u001b[39;00m\u001b[38;5;21;01m.\u001b[39;00m\u001b[38;5;21;01mio\u001b[39;00m \u001b[38;5;28;01mimport\u001b[39;00m sql\n\u001b[1;32m-> 2987\u001b[0m \u001b[38;5;28;01mreturn\u001b[39;00m \u001b[43msql\u001b[49m\u001b[38;5;241;43m.\u001b[39;49m\u001b[43mto_sql\u001b[49m\u001b[43m(\u001b[49m\n\u001b[0;32m   2988\u001b[0m \u001b[43m    \u001b[49m\u001b[38;5;28;43mself\u001b[39;49m\u001b[43m,\u001b[49m\n\u001b[0;32m   2989\u001b[0m \u001b[43m    \u001b[49m\u001b[43mname\u001b[49m\u001b[43m,\u001b[49m\n\u001b[0;32m   2990\u001b[0m \u001b[43m    \u001b[49m\u001b[43mcon\u001b[49m\u001b[43m,\u001b[49m\n\u001b[0;32m   2991\u001b[0m \u001b[43m    \u001b[49m\u001b[43mschema\u001b[49m\u001b[38;5;241;43m=\u001b[39;49m\u001b[43mschema\u001b[49m\u001b[43m,\u001b[49m\n\u001b[0;32m   2992\u001b[0m \u001b[43m    \u001b[49m\u001b[43mif_exists\u001b[49m\u001b[38;5;241;43m=\u001b[39;49m\u001b[43mif_exists\u001b[49m\u001b[43m,\u001b[49m\n\u001b[0;32m   2993\u001b[0m \u001b[43m    \u001b[49m\u001b[43mindex\u001b[49m\u001b[38;5;241;43m=\u001b[39;49m\u001b[43mindex\u001b[49m\u001b[43m,\u001b[49m\n\u001b[0;32m   2994\u001b[0m \u001b[43m    \u001b[49m\u001b[43mindex_label\u001b[49m\u001b[38;5;241;43m=\u001b[39;49m\u001b[43mindex_label\u001b[49m\u001b[43m,\u001b[49m\n\u001b[0;32m   2995\u001b[0m \u001b[43m    \u001b[49m\u001b[43mchunksize\u001b[49m\u001b[38;5;241;43m=\u001b[39;49m\u001b[43mchunksize\u001b[49m\u001b[43m,\u001b[49m\n\u001b[0;32m   2996\u001b[0m \u001b[43m    \u001b[49m\u001b[43mdtype\u001b[49m\u001b[38;5;241;43m=\u001b[39;49m\u001b[43mdtype\u001b[49m\u001b[43m,\u001b[49m\n\u001b[0;32m   2997\u001b[0m \u001b[43m    \u001b[49m\u001b[43mmethod\u001b[49m\u001b[38;5;241;43m=\u001b[39;49m\u001b[43mmethod\u001b[49m\u001b[43m,\u001b[49m\n\u001b[0;32m   2998\u001b[0m \u001b[43m\u001b[49m\u001b[43m)\u001b[49m\n",
      "File \u001b[1;32m~\\anaconda3\\lib\\site-packages\\pandas\\io\\sql.py:695\u001b[0m, in \u001b[0;36mto_sql\u001b[1;34m(frame, name, con, schema, if_exists, index, index_label, chunksize, dtype, method, engine, **engine_kwargs)\u001b[0m\n\u001b[0;32m    690\u001b[0m \u001b[38;5;28;01melif\u001b[39;00m \u001b[38;5;129;01mnot\u001b[39;00m \u001b[38;5;28misinstance\u001b[39m(frame, DataFrame):\n\u001b[0;32m    691\u001b[0m     \u001b[38;5;28;01mraise\u001b[39;00m \u001b[38;5;167;01mNotImplementedError\u001b[39;00m(\n\u001b[0;32m    692\u001b[0m         \u001b[38;5;124m\"\u001b[39m\u001b[38;5;124m'\u001b[39m\u001b[38;5;124mframe\u001b[39m\u001b[38;5;124m'\u001b[39m\u001b[38;5;124m argument should be either a Series or a DataFrame\u001b[39m\u001b[38;5;124m\"\u001b[39m\n\u001b[0;32m    693\u001b[0m     )\n\u001b[1;32m--> 695\u001b[0m \u001b[38;5;28;01mreturn\u001b[39;00m pandas_sql\u001b[38;5;241m.\u001b[39mto_sql(\n\u001b[0;32m    696\u001b[0m     frame,\n\u001b[0;32m    697\u001b[0m     name,\n\u001b[0;32m    698\u001b[0m     if_exists\u001b[38;5;241m=\u001b[39mif_exists,\n\u001b[0;32m    699\u001b[0m     index\u001b[38;5;241m=\u001b[39mindex,\n\u001b[0;32m    700\u001b[0m     index_label\u001b[38;5;241m=\u001b[39mindex_label,\n\u001b[0;32m    701\u001b[0m     schema\u001b[38;5;241m=\u001b[39mschema,\n\u001b[0;32m    702\u001b[0m     chunksize\u001b[38;5;241m=\u001b[39mchunksize,\n\u001b[0;32m    703\u001b[0m     dtype\u001b[38;5;241m=\u001b[39mdtype,\n\u001b[0;32m    704\u001b[0m     method\u001b[38;5;241m=\u001b[39mmethod,\n\u001b[0;32m    705\u001b[0m     engine\u001b[38;5;241m=\u001b[39mengine,\n\u001b[0;32m    706\u001b[0m     \u001b[38;5;241m*\u001b[39m\u001b[38;5;241m*\u001b[39mengine_kwargs,\n\u001b[0;32m    707\u001b[0m )\n",
      "File \u001b[1;32m~\\anaconda3\\lib\\site-packages\\pandas\\io\\sql.py:2188\u001b[0m, in \u001b[0;36mSQLiteDatabase.to_sql\u001b[1;34m(self, frame, name, if_exists, index, index_label, schema, chunksize, dtype, method, **kwargs)\u001b[0m\n\u001b[0;32m   2178\u001b[0m table \u001b[38;5;241m=\u001b[39m SQLiteTable(\n\u001b[0;32m   2179\u001b[0m     name,\n\u001b[0;32m   2180\u001b[0m     \u001b[38;5;28mself\u001b[39m,\n\u001b[1;32m   (...)\u001b[0m\n\u001b[0;32m   2185\u001b[0m     dtype\u001b[38;5;241m=\u001b[39mdtype,\n\u001b[0;32m   2186\u001b[0m )\n\u001b[0;32m   2187\u001b[0m table\u001b[38;5;241m.\u001b[39mcreate()\n\u001b[1;32m-> 2188\u001b[0m \u001b[38;5;28;01mreturn\u001b[39;00m \u001b[43mtable\u001b[49m\u001b[38;5;241;43m.\u001b[39;49m\u001b[43minsert\u001b[49m\u001b[43m(\u001b[49m\u001b[43mchunksize\u001b[49m\u001b[43m,\u001b[49m\u001b[43m \u001b[49m\u001b[43mmethod\u001b[49m\u001b[43m)\u001b[49m\n",
      "File \u001b[1;32m~\\anaconda3\\lib\\site-packages\\pandas\\io\\sql.py:946\u001b[0m, in \u001b[0;36mSQLTable.insert\u001b[1;34m(self, chunksize, method)\u001b[0m\n\u001b[0;32m    943\u001b[0m     \u001b[38;5;28;01mbreak\u001b[39;00m\n\u001b[0;32m    945\u001b[0m chunk_iter \u001b[38;5;241m=\u001b[39m \u001b[38;5;28mzip\u001b[39m(\u001b[38;5;241m*\u001b[39m(arr[start_i:end_i] \u001b[38;5;28;01mfor\u001b[39;00m arr \u001b[38;5;129;01min\u001b[39;00m data_list))\n\u001b[1;32m--> 946\u001b[0m num_inserted \u001b[38;5;241m=\u001b[39m \u001b[43mexec_insert\u001b[49m\u001b[43m(\u001b[49m\u001b[43mconn\u001b[49m\u001b[43m,\u001b[49m\u001b[43m \u001b[49m\u001b[43mkeys\u001b[49m\u001b[43m,\u001b[49m\u001b[43m \u001b[49m\u001b[43mchunk_iter\u001b[49m\u001b[43m)\u001b[49m\n\u001b[0;32m    947\u001b[0m \u001b[38;5;66;03m# GH 46891\u001b[39;00m\n\u001b[0;32m    948\u001b[0m \u001b[38;5;28;01mif\u001b[39;00m is_integer(num_inserted):\n",
      "File \u001b[1;32m~\\anaconda3\\lib\\site-packages\\pandas\\io\\sql.py:1894\u001b[0m, in \u001b[0;36mSQLiteTable._execute_insert\u001b[1;34m(self, conn, keys, data_iter)\u001b[0m\n\u001b[0;32m   1892\u001b[0m \u001b[38;5;28;01mdef\u001b[39;00m \u001b[38;5;21m_execute_insert\u001b[39m(\u001b[38;5;28mself\u001b[39m, conn, keys, data_iter) \u001b[38;5;241m-\u001b[39m\u001b[38;5;241m>\u001b[39m \u001b[38;5;28mint\u001b[39m:\n\u001b[0;32m   1893\u001b[0m     data_list \u001b[38;5;241m=\u001b[39m \u001b[38;5;28mlist\u001b[39m(data_iter)\n\u001b[1;32m-> 1894\u001b[0m     \u001b[43mconn\u001b[49m\u001b[38;5;241;43m.\u001b[39;49m\u001b[43mexecutemany\u001b[49m\u001b[43m(\u001b[49m\u001b[38;5;28;43mself\u001b[39;49m\u001b[38;5;241;43m.\u001b[39;49m\u001b[43minsert_statement\u001b[49m\u001b[43m(\u001b[49m\u001b[43mnum_rows\u001b[49m\u001b[38;5;241;43m=\u001b[39;49m\u001b[38;5;241;43m1\u001b[39;49m\u001b[43m)\u001b[49m\u001b[43m,\u001b[49m\u001b[43m \u001b[49m\u001b[43mdata_list\u001b[49m\u001b[43m)\u001b[49m\n\u001b[0;32m   1895\u001b[0m     \u001b[38;5;28;01mreturn\u001b[39;00m conn\u001b[38;5;241m.\u001b[39mrowcount\n",
      "\u001b[1;31mIntegrityError\u001b[0m: UNIQUE constraint failed: Courses.CourseName"
     ]
    }
   ],
   "source": [
    "import sqlite3\n",
    "\n",
    "\n",
    "# Create SQLite database in memory\n",
    "conn = sqlite3.connect(':memory:')\n",
    "cursor = conn.cursor()\n",
    "\n",
    "# Enable foreign key constraints for SQLite database\n",
    "cursor.execute(\"PRAGMA foreign_keys = ON\")\n",
    "\n",
    "# Create tables\n",
    "cursor.execute('''\n",
    "CREATE TABLE Students (\n",
    "    StudentNumber INTEGER PRIMARY KEY,\n",
    "    StudentName TEXT NOT NULL,\n",
    "    Support TEXT NOT NULL,\n",
    "    DateOfBirth DATE NOT NULL\n",
    ")\n",
    "''')\n",
    "\n",
    "cursor.execute('''\n",
    "CREATE TABLE Courses (\n",
    "    CourseName TEXT PRIMARY KEY,\n",
    "    ExamBoards TEXT NOT NULL\n",
    ")\n",
    "''')\n",
    "\n",
    "cursor.execute('''\n",
    "CREATE TABLE Scores (\n",
    "    StudentNumber INTEGER,\n",
    "    CourseName TEXT,\n",
    "    ExamScore INTEGER,\n",
    "    PRIMARY KEY (StudentNumber, CourseName),\n",
    "    FOREIGN KEY (StudentNumber) REFERENCES Students(StudentNumber),\n",
    "    FOREIGN KEY (CourseName) REFERENCES Courses(CourseName)\n",
    ")\n",
    "''')\n",
    "\n",
    "cursor.execute('''\n",
    "CREATE TABLE TeacherCourse (\n",
    "    CourseName TEXT,\n",
    "    TeacherName TEXT,\n",
    "    PRIMARY KEY (CourseName, TeacherName),\n",
    "    FOREIGN KEY (CourseName) REFERENCES Courses(CourseName)\n",
    ")\n",
    "''')\n",
    "\n",
    "# Insert data into tables\n",
    "students.to_sql('Students', conn, if_exists='append', index=False)\n",
    "courses.to_sql('Courses', conn, if_exists='append', index=False)\n",
    "scores.to_sql('Scores', conn, if_exists='append', index=False)\n",
    "teacher_course.to_sql('TeacherCourse', conn, if_exists='append', index=False)\n",
    "\n",
    "# Function to test referential integrity\n",
    "def test_referential_integrity():\n",
    "    try:\n",
    "        cursor.execute(\"INSERT INTO Scores (StudentNumber, CourseName, ExamScore) VALUES (?, ?, ?)\", (9999, 'Maths', 80))\n",
    "        return \"Inserted record with non-existent StudentNumber!\"\n",
    "    except sqlite3.IntegrityError:\n",
    "        try:\n",
    "            cursor.execute(\"INSERT INTO Scores (StudentNumber, CourseName, ExamScore) VALUES (?, ?, ?)\", (1001, 'NonExistentCourse', 80))\n",
    "            return \"Inserted record with non-existent CourseName!\"\n",
    "        except sqlite3.IntegrityError:\n",
    "            try:\n",
    "                cursor.execute(\"DELETE FROM Students WHERE StudentNumber = ?\", (1001,))\n",
    "                return \"Deleted record from Students table that is referenced in Scores table!\"\n",
    "            except sqlite3.IntegrityError:\n",
    "                return \"Referential integrity tests passed!\"\n",
    "\n",
    "# Run the tests\n",
    "test_referential_integrity()\n"
   ]
  },
  {
   "cell_type": "code",
   "execution_count": null,
   "id": "82f920d7",
   "metadata": {},
   "outputs": [],
   "source": []
  }
 ],
 "metadata": {
  "kernelspec": {
   "display_name": "Python 3 (ipykernel)",
   "language": "python",
   "name": "python3"
  },
  "language_info": {
   "codemirror_mode": {
    "name": "ipython",
    "version": 3
   },
   "file_extension": ".py",
   "mimetype": "text/x-python",
   "name": "python",
   "nbconvert_exporter": "python",
   "pygments_lexer": "ipython3",
   "version": "3.10.9"
  }
 },
 "nbformat": 4,
 "nbformat_minor": 5
}
